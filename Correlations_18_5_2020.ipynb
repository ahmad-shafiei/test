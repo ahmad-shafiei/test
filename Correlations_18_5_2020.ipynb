{
 "cells": [
  {
   "cell_type": "code",
   "execution_count": 1,
   "metadata": {},
   "outputs": [],
   "source": [
    "%matplotlib inline\n",
    "from qutip import *\n",
    "import numpy as np\n",
    "import matplotlib.pyplot as plt\n",
    "from matplotlib import cm\n",
    "import matplotlib as mpl\n",
    "from numpy import sqrt, pi,sin,cos, linspace"
   ]
  },
  {
   "cell_type": "markdown",
   "metadata": {},
   "source": [
    "# Correlations"
   ]
  },
  {
   "cell_type": "code",
   "execution_count": 11,
   "metadata": {},
   "outputs": [
    {
     "data": {
      "text/latex": [
       "Quantum object: dims = [[3], [3]], shape = (3, 3), type = oper, isherm = False\\begin{equation*}\\left(\\begin{array}{*{11}c}0.0 & 24.0 & 0.0\\\\0.0 & 0.0 & 33.941\\\\0.0 & 0.0 & 0.0\\\\\\end{array}\\right)\\end{equation*}"
      ],
      "text/plain": [
       "Quantum object: dims = [[3], [3]], shape = (3, 3), type = oper, isherm = False\n",
       "Qobj data =\n",
       "[[ 0.        24.         0.       ]\n",
       " [ 0.         0.        33.9411255]\n",
       " [ 0.         0.         0.       ]]"
      ]
     },
     "execution_count": 11,
     "metadata": {},
     "output_type": "execute_result"
    }
   ],
   "source": [
    "#----------------parameters\n",
    "Nc = 3;      #### photons ##\n",
    "Nm = 12;     ## phonon dimension  \n",
    "\n",
    "a = tensor(destroy(Nc),qeye(Nm),qeye(2))     # cavity anihilation operator\n",
    "b = tensor(qeye(Nc), destroy(Nm),qeye(2))    # phonon anihilation operator\n",
    "#N_pol= tensor(a.dag()*a , qeye(2)) + tensor(qeye(Nc) , sigmap()*sigmam())    # atom-cavity or polariton oprator\n",
    "\n",
    "sz = tensor(qeye(Nc), qeye(Nm), sigmaz())\n",
    "sigma_m = tensor(qeye(Nc), qeye(Nm), sigmam())\n",
    "sigma_p = tensor(qeye(Nc), qeye(Nm), sigmap())\n",
    "\n",
    "#psi0 = tensor(coherent(Nn,0.1),basis(Nm,1));\n",
    "#rho0 = ket2dm(psi0)\n",
    "#times;\n",
    "\n",
    "#b.dag() * b\n",
    "ptrace(a,0)"
   ]
  },
  {
   "cell_type": "code",
   "execution_count": 114,
   "metadata": {},
   "outputs": [
    {
     "data": {
      "text/plain": [
       "50.5"
      ]
     },
     "execution_count": 114,
     "metadata": {},
     "output_type": "execute_result"
    }
   ],
   "source": [
    "#-----------------Open Q system-----\n",
    "wm = 1.0\n",
    "gamma_c = 1e-2 * wm     # cavity loss rate\n",
    "gamma_a = gamma_c    \n",
    "\n",
    "gamma_m = 1e-4 * wm              # mechanical loss rate\n",
    "#wm = gamma_m * 1e4\n",
    "gamma_inc = 0  # incoerent driving rate\n",
    "\n",
    "wc= gamma_c * 1e4\n",
    "wa=wc                       # resonance\n",
    "\n",
    "F_p = gamma_a               # laser amplitude \n",
    "\n",
    "g_cm =  wm/10.0              # cavity-phonon coupling\n",
    "#g_am = - wm/40.0           # atom_phonon coupling   ??????\n",
    "g_ac =  wm/2.0              # cavity-atom coupling\n",
    "# consider two cases\n",
    "#g_polr = g_cm         # polariton-mechanics coupling\n",
    "#g_polr = 0\n",
    "\n",
    "nth = 3.45;\n",
    "# ..........Collapse operators\n",
    "collapse= []\n",
    "\n",
    "collapse.append(sqrt (gamma_c) * a)\n",
    "collapse.append(sqrt (gamma_a) * sigma_m)\n",
    "collapse.append(sqrt (gamma_inc) * sigma_p)\n",
    "collapse.append(sqrt(gamma_m*nth)*b.dag())\n",
    "collapse.append(sqrt(gamma_m*(nth+1))*b)\n",
    "\n",
    "# ..........Expectation valuses\n",
    "\n",
    "#expct_ops=[]\n",
    "#expct_ops.append(b.dag()*b)\n",
    "  \n",
    "######################################\n",
    "\n",
    "# to have time independent H transform to rotating frame\n",
    "# so substitude detuning for wc and wa \n",
    "# wp is frequency of driving field\n",
    "\n",
    "g_amlist = np.linspace(0.25,0.75,15) * g_cm         # g_ac range \n",
    "delta_ac = wa-wc # detunung \n",
    "w_minus = wc/2.0 - sqrt((delta_ac**2)/4 + g_ac**2 )    # clacuting of w_m (eigen energy of polariton when n=1)\n",
    "w_plus  = wc/2.0 + sqrt((delta_ac**2)/4 + g_ac**2 )\n",
    "wp = w_minus - wm\n",
    "delta_cp = wc-wp\n",
    "delta_ap = wa-wp\n",
    "\n",
    "#opt=Options(rhs_reuse=True, nsteps=5000)\n",
    "bdagb=[]\n",
    "adaga= []\n",
    "for g_am in g_amlist:\n",
    "       \n",
    "    H = delta_cp * a.dag() * a  + delta_ap * sz/2 + wm * b.dag() * b + 1j *  g_ac * (sigma_p * a - sigma_m * a.dag()) \\\n",
    "    - g_cm * a.dag()* a * (b.dag() + b) - g_am * sz * (b.dag() + b) + 1j*F_p * (a.dag()-a)\n",
    "   # H= H * 0\n",
    "\n",
    "    rho = steadystate(H, collapse)\n",
    "    \n",
    "#    taus = np.linspace(0, 10.0, 2000)\n",
    "#    num = mesolve(H, rho, taus, collapse, expct_ops, options=opt).expect[0]\n",
    "\n",
    "#    bdagb.append(num)\n",
    "    q=np.trace(b.dag()*b*rho)\n",
    "    adaga.append(np.trace(a.dag()*a*rho))\n",
    "    bdagb.append(expect(b.dag()*b,rho))\n",
    "    \n",
    "delta_cp\n",
    "delta_ap\n",
    "w_minus\n",
    "w_plus"
   ]
  },
  {
   "cell_type": "code",
   "execution_count": 95,
   "metadata": {},
   "outputs": [
    {
     "name": "stdout",
     "output_type": "stream",
     "text": [
      "[2.856681196376707, 2.8573300655044513, 2.858241096926261, 2.8594167452449724, 2.8608599505294103]\n",
      "[(3.9216128213524485e-08+0j), (3.9212919564803865e-08+0j), (3.92097168270536e-08+0j), (3.9206521617206754e-08+0j), (3.9203335376603615e-08+0j)]\n"
     ]
    }
   ],
   "source": [
    "print(bdagb)\n",
    "print(adaga)\n",
    "#sqrt(3.45)"
   ]
  },
  {
   "cell_type": "code",
   "execution_count": 116,
   "metadata": {
    "scrolled": false
   },
   "outputs": [
    {
     "data": {
      "text/plain": [
       "[<matplotlib.lines.Line2D at 0x1bd54c5c2e8>]"
      ]
     },
     "execution_count": 116,
     "metadata": {},
     "output_type": "execute_result"
    },
    {
     "data": {
      "image/png": "[encoded data removed]",
      "text/plain": [
       "<Figure size 1008x432 with 1 Axes>"
      ]
     },
     "metadata": {
      "needs_background": "light"
     },
     "output_type": "display_data"
    }
   ],
   "source": [
    "# for g_polr = g_cm \n",
    "# psi0 = tensor(basis(Nc,0), basis(Nm,1), basis(2,1))\n",
    "fig, ax = plt.subplots(figsize=(14,6))\n",
    "ax.plot((g_cm/2 -g_amlist) , (bdagb), color='b' , lw=1.0)\n",
    "#plt.ylim([0.5, 1.25])"
   ]
  },
  {
   "cell_type": "markdown",
   "metadata": {},
   "source": [
    "# Steady state"
   ]
  },
  {
   "cell_type": "code",
   "execution_count": null,
   "metadata": {},
   "outputs": [],
   "source": []
  },
  {
   "cell_type": "code",
   "execution_count": null,
   "metadata": {},
   "outputs": [],
   "source": [
    "#result1 = mesolve(H1, psi0, times,collapse,[])\n",
    "#opt=Options(nsteps=5000)  #rhs_reuse=True,\n",
    "# , options= opt\n",
    "\n",
    "final_state = steadystate(H, collapse, use_rcm = True )"
   ]
  },
  {
   "cell_type": "code",
   "execution_count": null,
   "metadata": {},
   "outputs": [],
   "source": [
    "#use_rcm = True  # to minimize the bandwidth of the modified Liouvillian steadystate(H, c_ops, method='power', use_rcm=True)\n",
    "fexpt = expect(a.dag() * a, final_state)\n",
    "tlist = np.linspace(0, 50, 100)\n",
    "\n",
    "plt.axhline(y=fexpt, color='r', lw=1.5)\n",
    "(fexpt)"
   ]
  },
  {
   "cell_type": "markdown",
   "metadata": {},
   "source": [
    "# autocorrelation"
   ]
  },
  {
   "cell_type": "code",
   "execution_count": null,
   "metadata": {},
   "outputs": [],
   "source": [
    "#time-dependent Liouvillian\n",
    "#plt.semilogx()\n",
    "# cor1 = correlation_2op_1t(H, None, tlist, [np.sqrt(0.5) * a], x, x)\n",
    "# plot(times, np.real(corr1), tlist, np.real(corr2), times, np.real(corr3))\n",
    "### for furiour transform \n",
    "# tlist = np.linspace(0, 100, 5000)\n",
    "#corr = correlation_2op_1t(H, None, tlist, c_ops, a.dag(), a)\n",
    "#wlist1, spec1 = spectrum_correlation_fft(tlist, corr)\n",
    "\n",
    "#ax.plot(wlist1 / (2 * np.pi), spec1, 'b', lw=2, label='eseries method')"
   ]
  },
  {
   "cell_type": "markdown",
   "metadata": {},
   "source": [
    "# Second-order correlation"
   ]
  },
  {
   "cell_type": "code",
   "execution_count": 162,
   "metadata": {},
   "outputs": [
    {
     "data": {
      "text/plain": [
       "10000.0"
      ]
     },
     "execution_count": 162,
     "metadata": {},
     "output_type": "execute_result"
    }
   ],
   "source": [
    "#----------------parameters\n",
    "Nc = 9;      #### photons ##\n",
    "Nm = 9;     ## phonon dimension  \n",
    "\n",
    "a = tensor(destroy(Nc),qeye(Nm),qeye(2))     # cavity anihilation operator\n",
    "b = tensor(qeye(Nc), destroy(Nm),qeye(2))    # phonon anihilation operator\n",
    "#N_pol= tensor(a.dag()*a , qeye(2)) + tensor(qeye(Nc) , sigmap()*sigmam())    # atom-cavity or polariton oprator\n",
    "\n",
    "sz = tensor(qeye(Nc), qeye(Nm), sigmaz())\n",
    "sigma_m = tensor(qeye(Nc), qeye(Nm), sigmam())\n",
    "sigma_p = tensor(qeye(Nc), qeye(Nm), sigmap())\n",
    "####################################################\n",
    "#-----------------Open Q system-----\n",
    "wm = 10.0\n",
    "gamma_c = 1e-2 * wm     # cavity loss rate\n",
    "gamma_a = gamma_c    \n",
    "\n",
    "gamma_m = 1e-4 * wm              # mechanical loss rate\n",
    "wm = gamma_m * 1e4\n",
    "gamma_inc = gamma_c * 1e-3  # incoerent driving rate\n",
    "\n",
    "wc= gamma_c * 1e4\n",
    "wa=wc                       # resonance\n",
    "\n",
    "F_p = gamma_a               # laser amplitude \n",
    "\n",
    "g_ac = wm/2.0              # cavity-atom coupling\n",
    "\n",
    "g_am = - wm/40.0           # atom_phonon coupling   ??????\n",
    "#g_cm = wm/10.0              # cavity-phonon coupling\n",
    "\n",
    "\n",
    "# consider two cases  for g_polr=  g_cm - 2 * g_am  \n",
    "#g_cm = 2  * g_am     # g_polr=0\n",
    "g_cm = 2  * g_am + 1   # g_polr=1\n",
    "\n",
    "\n",
    "nth = 3.45;\n",
    "#######################################\n",
    "# ..........Collapse operators\n",
    "collapse= []\n",
    "\n",
    "collapse.append(sqrt (gamma_c) * a)\n",
    "collapse.append(sqrt (gamma_a) * sigma_m)\n",
    "collapse.append(sqrt (gamma_inc) * sigma_p)\n",
    "collapse.append(sqrt(gamma_m*nth)*b.dag())\n",
    "collapse.append(sqrt(gamma_m*(nth+1))*b)\n",
    "\n",
    "# ..........Expectation valuses\n",
    "\n",
    "expct1_ops=[]\n",
    "expct1_ops.append(b.dag()*b)\n",
    "#expct1_ops.append(a.dag()*a)\n",
    "\n",
    "# opt=Options(nsteps=10000) #where nsteps is some integer greater than 1000     \n",
    "######################################\n",
    "#----------------Ideal Dynamics\n",
    "\n",
    "H = wc * a.dag() * a  + wa * sz/2 + wm * b.dag() * b + 1j *  g_ac * (sigma_p * a - sigma_m * a.dag()) \\\n",
    "   - g_cm * a.dag()* a * (b.dag() + b) - g_am * sz * (b.dag() + b)\n",
    "\n",
    "\n",
    "g_ac\n",
    "gamma_c/wm\n",
    "wa/gamma_a\n",
    "g_ac/wm\n",
    "gamma_inc/gamma_c\n",
    "g_cm/wm\n",
    "wc/gamma_c"
   ]
  },
  {
   "cell_type": "code",
   "execution_count": 166,
   "metadata": {},
   "outputs": [],
   "source": [
    "# for steady state\n",
    "taus = np.linspace(0, 50.0, 6000)\n",
    "\n",
    "rho0 = steadystate(H, collapse)\n",
    "opt=Options(rhs_reuse=True, nsteps=7000)\n",
    "    # first calculate the occupation number as a function of time\n",
    "n = mesolve(H, rho0, taus, collapse, [a.dag() * a], options=opt).expect[0]"
   ]
  },
  {
   "cell_type": "code",
   "execution_count": 167,
   "metadata": {},
   "outputs": [],
   "source": [
    "opt=Options(rhs_reuse=True,nsteps=5000)\n",
    "G2 = correlation_3op_1t(H, rho0, taus, collapse, a.dag(), a.dag()*a, a, options=opt)\n",
    "g2 = G2 / (n[0] * n)\n",
    "correlation_ss"
   ]
  },
  {
   "cell_type": "code",
   "execution_count": 161,
   "metadata": {},
   "outputs": [
    {
     "data": {
      "text/plain": [
       "(0.5, 1.25)"
      ]
     },
     "execution_count": 161,
     "metadata": {},
     "output_type": "execute_result"
    },
    {
     "data": {
      "image/png": "[encoded data removed]",
      "text/plain": [
       "<Figure size 1008x432 with 1 Axes>"
      ]
     },
     "metadata": {
      "needs_background": "light"
     },
     "output_type": "display_data"
    }
   ],
   "source": [
    "# for g_polr = 0\n",
    "\n",
    "fig, ax = plt.subplots(figsize=(14,6))\n",
    "plt.semilogx(taus* gamma_c, np.real(g2), color='r' , lw=1.0)\n",
    "plt.ylim([0.5, 1.25])\n",
    "#plt.xlim([0, 1.25])"
   ]
  },
  {
   "cell_type": "code",
   "execution_count": 168,
   "metadata": {},
   "outputs": [
    {
     "data": {
      "text/plain": [
       "(0.5, 1.25)"
      ]
     },
     "execution_count": 168,
     "metadata": {},
     "output_type": "execute_result"
    },
    {
     "data": {
      "image/png": "[encoded data removed]",
      "text/plain": [
       "<Figure size 1008x432 with 1 Axes>"
      ]
     },
     "metadata": {
      "needs_background": "light"
     },
     "output_type": "display_data"
    }
   ],
   "source": [
    "# for g_polr = g_cm \n",
    "\n",
    "fig, ax = plt.subplots(figsize=(14,6))\n",
    "plt.semilogx(taus* gamma_c, np.real(g2), color='b' , lw=1.0)\n",
    "plt.ylim([0.5, 1.25])\n"
   ]
  },
  {
   "cell_type": "code",
   "execution_count": null,
   "metadata": {},
   "outputs": [],
   "source": [
    "# for g_polr = 0\n",
    "\n",
    "fig, ax = plt.subplots(figsize=(14,6))\n",
    "plt.semilogx(taus* gamma_c, np.real(g2), color='r' , lw=1.0)\n",
    "plt.ylim([0.5, 1.25])\n",
    "#plt.xlim([0, 1.25])\n"
   ]
  },
  {
   "cell_type": "code",
   "execution_count": null,
   "metadata": {},
   "outputs": [],
   "source": [
    "# for g_polr = g_cm \n",
    "\n",
    "fig, ax = plt.subplots(figsize=(14,6))\n",
    "plt.semilogx(taus* gamma_c, np.real(g2), color='b' , lw=1.0)\n",
    "plt.ylim([0.5, 1.25])"
   ]
  },
  {
   "cell_type": "code",
   "execution_count": null,
   "metadata": {},
   "outputs": [],
   "source": [
    "# for g_polr = g_cm \n",
    "\n",
    "fig, ax = plt.subplots(figsize=(14,6))\n",
    "plt.semilogx(taus* gamma_c, np.real(g2), color='b' , lw=1.0)\n",
    "plt.ylim([0.5, 1.25])\n"
   ]
  },
  {
   "cell_type": "markdown",
   "metadata": {},
   "source": [
    "# Fourier transform "
   ]
  },
  {
   "cell_type": "code",
   "execution_count": null,
   "metadata": {},
   "outputs": [],
   "source": [
    "# for g_polr/g_cm = 0 \n",
    "wlist1, spec1 = spectrum_correlation_fft(taus, g2)\n",
    "fig, ax = plt.subplots(figsize=(14,6))\n",
    "\n",
    "plt.semilogy((wlist1), np.abs(spec1)**2, color='r' , lw=1.0)"
   ]
  },
  {
   "cell_type": "code",
   "execution_count": null,
   "metadata": {},
   "outputs": [],
   "source": [
    "# for g_polr/g_cm = 1 \n",
    "wlist1, spec1 = spectrum_correlation_fft(taus, g2)\n",
    "fig, ax = plt.subplots(figsize=(14,6))\n",
    "#ax.plot((wlist1 )/ (wm) , np.abs(spec1)**2, 'b', lw=2,)\n",
    "plt.semilogy((wlist1), np.abs(spec1)**2, color='r' , lw=1.0)"
   ]
  },
  {
   "cell_type": "code",
   "execution_count": null,
   "metadata": {},
   "outputs": [],
   "source": [
    "fig, ax = plt.subplots(figsize=(14,6))\n",
    "plt.semilogx(taus* gamma_c, np.real(g2), color='r' , lw=1.0)\n",
    "plt.ylim([0, 1.25])\n",
    "# for g_polr = 0"
   ]
  },
  {
   "cell_type": "code",
   "execution_count": null,
   "metadata": {},
   "outputs": [],
   "source": [
    "fig, ax = plt.subplots(figsize=(14,6))\n",
    "plt.semilogx(taus* gamma_c, np.real(g2), color='b' , lw=1.0)\n",
    "plt.ylim([0, 1.25])\n",
    "ax.set_xlabel('Time', fontsize=13)\n",
    "ax.set_ylabel('second-order autocorrelation', fontsize=12)\n",
    "# for g_polr/g_cm = 1 "
   ]
  },
  {
   "cell_type": "code",
   "execution_count": null,
   "metadata": {},
   "outputs": [],
   "source": [
    "fig, ax = plt.subplots(figsize=(14,6))\n",
    "plt.semilogx(taus* gamma_c, np.real(g2), color='b' , lw=1.0)\n",
    "plt.ylim([0, 1.25])\n",
    "ax.set_xlabel('Time', fontsize=13)\n",
    "ax.set_ylabel('second-order autocorrelation', fontsize=12)\n",
    "# for g_polr/g_cm = 1 "
   ]
  },
  {
   "cell_type": "markdown",
   "metadata": {},
   "source": [
    "# Fourier transform "
   ]
  },
  {
   "cell_type": "code",
   "execution_count": null,
   "metadata": {},
   "outputs": [],
   "source": [
    "wlist1[1]\n",
    "wc+2*wm"
   ]
  },
  {
   "cell_type": "code",
   "execution_count": null,
   "metadata": {},
   "outputs": [],
   "source": [
    "# for g_polr/g_cm = 1 \n",
    "wlist1, spec1 = spectrum_correlation_fft(taus, g2)\n",
    "fig, ax = plt.subplots(figsize=(14,6))\n",
    "#ax.plot((wlist1 )/ (wm) , np.abs(spec1)**2, 'b', lw=2,)\n",
    "plt.semilogy((wlist1-wc )/wm , np.abs(spec1)**2, color='b' , lw=1.0)"
   ]
  },
  {
   "cell_type": "code",
   "execution_count": null,
   "metadata": {},
   "outputs": [],
   "source": [
    "# for g_polr/g_cm = 1 \n",
    "wlist1, spec1 = spectrum_correlation_fft(taus, G2)\n",
    "fig, ax = plt.subplots(figsize=(14,6))\n",
    "#ax.plot((wlist1 )/ (wm) , np.abs(spec1)**2, 'b', lw=2,)\n",
    "plt.semilogy((wlist1 ) / (2 * np.pi), np.abs(spec1)**2, color='b' , lw=1.0)"
   ]
  },
  {
   "cell_type": "code",
   "execution_count": null,
   "metadata": {},
   "outputs": [],
   "source": [
    "(wlist1)[5]\n",
    "wc"
   ]
  },
  {
   "cell_type": "code",
   "execution_count": null,
   "metadata": {},
   "outputs": [],
   "source": [
    "wlist1[0], wlist1[599]*g_ac"
   ]
  },
  {
   "cell_type": "code",
   "execution_count": null,
   "metadata": {},
   "outputs": [],
   "source": []
  }
 ],
 "metadata": {
  "kernelspec": {
   "display_name": "Python 3",
   "language": "python",
   "name": "python3"
  },
  "language_info": {
   "codemirror_mode": {
    "name": "ipython",
    "version": 3
   },
   "file_extension": ".py",
   "mimetype": "text/x-python",
   "name": "python",
   "nbconvert_exporter": "python",
   "pygments_lexer": "ipython3",
   "version": "3.7.3"
  }
 },
 "nbformat": 4,
 "nbformat_minor": 4
}
